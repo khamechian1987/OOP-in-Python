{
 "cells": [
  {
   "cell_type": "markdown",
   "metadata": {},
   "source": [
    "# **Object Orientated Programming in Python**"
   ]
  },
  {
   "cell_type": "markdown",
   "metadata": {},
   "source": [
    "# Blueprint: build class, special method, instantiate the class, methods"
   ]
  },
  {
   "cell_type": "code",
   "execution_count": 19,
   "metadata": {},
   "outputs": [],
   "source": [
    "#create class\n",
    "class Dog:\n",
    "\n",
    "    #special method: instatiate the object when its created\n",
    "    def __init__(self, name, age):\n",
    "        #attribute of class Dog which is name\n",
    "        self.name = name\n",
    "        self.age = age\n",
    "\n",
    "    def get_age(self):\n",
    "        return self.age\n",
    "         \n",
    "    def get_name(self):\n",
    "        return self.name\n",
    "    \n",
    "    def set_age(self, age):\n",
    "        self.age = age\n",
    "\n",
    "    def bark(self):\n",
    "        print(\"bark\")"
   ]
  },
  {
   "cell_type": "code",
   "execution_count": 24,
   "metadata": {},
   "outputs": [
    {
     "name": "stdout",
     "output_type": "stream",
     "text": [
      "Twix\n",
      "1\n",
      "3\n",
      "bark\n",
      "<class '__main__.Dog'>\n"
     ]
    }
   ],
   "source": [
    "#instantiating the class\n",
    "d = Dog(\"Twix\", 1)\n",
    "print(d.get_name())\n",
    "print(d.get_age())\n",
    "d.set_age(3)\n",
    "print(d.get_age())\n",
    "d.bark()\n",
    "print(type(d))"
   ]
  },
  {
   "cell_type": "code",
   "execution_count": 36,
   "metadata": {},
   "outputs": [],
   "source": [
    "class Students:\n",
    "    def __init__ (self, name, age, grade):\n",
    "        self.name = name\n",
    "        self.age = age\n",
    "        self.grade = grade\n",
    "\n",
    "    def get_grade(self):\n",
    "        return self.grade\n",
    "\n",
    "\n",
    "class Course:\n",
    "    def __init__(self, name, max_students):\n",
    "        self.name = name\n",
    "        self.max_students = max_students\n",
    "        self.students = []\n",
    "    \n",
    "    def add_student(self, student):\n",
    "        if len(self.students) < self.max_students:\n",
    "            self.students.append(student)\n",
    "            return True\n",
    "        return False\n",
    "    \n",
    "    def get_avg_grade(self):\n",
    "        v = 0\n",
    "        for student in self.students:\n",
    "            v += student.get_grade()\n",
    "        return v / len(self.students)\n",
    "\n"
   ]
  },
  {
   "cell_type": "code",
   "execution_count": 38,
   "metadata": {},
   "outputs": [
    {
     "name": "stdout",
     "output_type": "stream",
     "text": [
      "[<__main__.Students object at 0x000001DFBE5FF560>, <__main__.Students object at 0x000001DFBE5FEA50>]\n",
      "MK\n",
      "50.5\n"
     ]
    }
   ],
   "source": [
    "s1 = Students(\"MK\", 36, 20)\n",
    "s2 = Students(\"sdf\", 32, 81)\n",
    "s3 = Students(\"er\", 18, 19)\n",
    "s4 = Students(\"cb\", 31, 14)\n",
    "\n",
    "course = Course(\"leetcode\", 2)\n",
    "course.add_student(s1)\n",
    "course.add_student(s2)\n",
    "course.add_student(s3)\n",
    "print(course.students)\n",
    "print(course.students[0].name)\n",
    "\n",
    "print(course.get_avg_grade())\n"
   ]
  },
  {
   "cell_type": "markdown",
   "metadata": {},
   "source": [
    "# Inheritance"
   ]
  },
  {
   "cell_type": "markdown",
   "metadata": {},
   "source": [
    "when two class are similar to each other, inheritance uses a main class that shares the similarities and just change what needs to be changed"
   ]
  },
  {
   "cell_type": "code",
   "execution_count": 41,
   "metadata": {},
   "outputs": [],
   "source": [
    "# class Cat:\n",
    "\n",
    "#     def __init__(self, name, age):\n",
    "#         self.name = name\n",
    "#         self.age = age\n",
    "\n",
    "#     def speak(self):\n",
    "#         print(\"Meow\")\n",
    "\n",
    "\n",
    "# class Dog:\n",
    "\n",
    "#     def __init__(self, name, age):\n",
    "#         self.name = name\n",
    "#         self.age = age\n",
    "\n",
    "#     def speak(self):\n",
    "#         print(\"Bark\")"
   ]
  },
  {
   "cell_type": "markdown",
   "metadata": {},
   "source": [
    "converts to:"
   ]
  },
  {
   "cell_type": "code",
   "execution_count": 50,
   "metadata": {},
   "outputs": [
    {
     "name": "stdout",
     "output_type": "stream",
     "text": [
      "What I am?\n",
      "Bark\n",
      "Meow\n",
      "I am bibi and I am 7 years old and I am blue\n"
     ]
    }
   ],
   "source": [
    "class Pet:\n",
    "    def __init__(self, name, age):\n",
    "        self.name = name\n",
    "        self.age = age\n",
    "    def show(self):\n",
    "        print(f\"I am {self.name} and I am {self.age} years old\")\n",
    "    def speak(self):\n",
    "        print(\"What I am?\")\n",
    "\n",
    "class Cat(Pet):\n",
    "    #add color att\n",
    "    def __init__(self, name, age, color):\n",
    "        super().__init__(name, age)\n",
    "        self.color = color\n",
    "    def speak(self):\n",
    "        print(\"Meow\")\n",
    "    def show(self):\n",
    "        print(f\"I am {self.name} and I am {self.age} years old and I am {self.color}\")\n",
    "class Dog(Pet):\n",
    "    def speak(self):\n",
    "        print(\"Bark\")\n",
    "\n",
    "\n",
    "p = Pet(\"kd\", 6)\n",
    "p.speak()\n",
    "d = Dog(\"Twix\", 1)\n",
    "d.speak()\n",
    "c = Cat(\"bibi\", 7, \"blue\")\n",
    "c.speak()\n",
    "c.show()\n",
    "\n"
   ]
  },
  {
   "cell_type": "markdown",
   "metadata": {},
   "source": [
    "# Class Attributes"
   ]
  },
  {
   "cell_type": "code",
   "execution_count": 54,
   "metadata": {},
   "outputs": [
    {
     "name": "stdout",
     "output_type": "stream",
     "text": [
      "1\n",
      "2\n",
      "2\n"
     ]
    }
   ],
   "source": [
    "# class Person:\n",
    "#     #since it does not have self it is a class attribute thati is shared by all instances\n",
    "#     num_people = 0\n",
    "#     def __init__(self, name):\n",
    "#         self.name = name\n",
    "#         Person.num_people += 1\n",
    "# p1 = Person(\"Tim\")\n",
    "# print(p1.num_people)\n",
    "# p2 = Person(\"Jill\")\n",
    "# print(p2.num_people)\n",
    "\n",
    "# print(p1.num_people)\n",
    "# print(Person.num_people)\n",
    "# Person.num_people = 8\n",
    "# print(p1.num_people)\n",
    "# print(p2.num_people)\n",
    "        "
   ]
  },
  {
   "cell_type": "markdown",
   "metadata": {},
   "source": [
    "# Class Method"
   ]
  },
  {
   "cell_type": "markdown",
   "metadata": {},
   "source": [
    "Key Feature: The ability to access and modify the class state is the distinguishing feature of class methods."
   ]
  },
  {
   "cell_type": "code",
   "execution_count": 59,
   "metadata": {},
   "outputs": [
    {
     "name": "stdout",
     "output_type": "stream",
     "text": [
      "2\n"
     ]
    }
   ],
   "source": [
    "class Person:\n",
    "    #since it does not have self it is a class attribute that is shared by all instances\n",
    "    num_p = 0\n",
    "    def __init__(self, name):\n",
    "        self.name = name\n",
    "        Person.add_person()\n",
    "    #class method: it is a method that is bound to the class and not the object of the class\n",
    "    @classmethod\n",
    "    def num_people(cls):\n",
    "        return cls.num_people\n",
    "    @classmethod\n",
    "    def add_person(cls):\n",
    "        cls.num_p += 1\n",
    "    \n",
    "p1 = Person(\"Tim\")\n",
    "p2 = Person(\"Jill\")\n",
    "print(Person.num_p)"
   ]
  },
  {
   "cell_type": "markdown",
   "metadata": {},
   "source": [
    "# Static methods"
   ]
  },
  {
   "cell_type": "markdown",
   "metadata": {},
   "source": [
    "\n",
    "A static method is a special kind of method in programming that belongs to the class itself rather than any particular object created from that class."
   ]
  },
  {
   "cell_type": "code",
   "execution_count": 61,
   "metadata": {},
   "outputs": [
    {
     "data": {
      "text/plain": [
       "10"
      ]
     },
     "execution_count": 61,
     "metadata": {},
     "output_type": "execute_result"
    }
   ],
   "source": [
    "class Math:\n",
    "    @staticmethod\n",
    "    def add5(x):\n",
    "        return x + 5\n",
    "    \n",
    "    @staticmethod\n",
    "    def pr():\n",
    "        return (\"run\")\n",
    "Math.add5(5)\n",
    "Math.pr()"
   ]
  },
  {
   "cell_type": "markdown",
   "metadata": {},
   "source": [
    "Practical Difference\n",
    "- **Modification of State**: Class methods can modify the class state (variables shared among all instances), which static methods should not.\n",
    "- **Cohesion**: Static methods help in keeping logically related functions together even if they do not need to interact with the class's properties. This makes the class a namespace, which can help organize code better.\n",
    "\n",
    "When deciding whether to use a class method or a static method, think about whether the method needs to know about its class's structure (class method) or if it's just a utility function that fits well within the class (static method)."
   ]
  }
 ],
 "metadata": {
  "kernelspec": {
   "display_name": "Python 3",
   "language": "python",
   "name": "python3"
  },
  "language_info": {
   "codemirror_mode": {
    "name": "ipython",
    "version": 3
   },
   "file_extension": ".py",
   "mimetype": "text/x-python",
   "name": "python",
   "nbconvert_exporter": "python",
   "pygments_lexer": "ipython3",
   "version": "3.11.4"
  }
 },
 "nbformat": 4,
 "nbformat_minor": 2
}
